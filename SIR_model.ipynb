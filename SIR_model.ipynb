{
  "nbformat": 4,
  "nbformat_minor": 0,
  "metadata": {
    "kernelspec": {
      "display_name": "Python 3",
      "language": "python",
      "name": "python3"
    },
    "language_info": {
      "codemirror_mode": {
        "name": "ipython",
        "version": 3
      },
      "file_extension": ".py",
      "mimetype": "text/x-python",
      "name": "python",
      "nbconvert_exporter": "python",
      "pygments_lexer": "ipython3",
      "version": "3.5.3-final"
    },
    "varInspector": {
      "cols": {
        "lenName": 16,
        "lenType": 16,
        "lenVar": 40
      },
      "kernels_config": {
        "python": {
          "delete_cmd_postfix": "",
          "delete_cmd_prefix": "del ",
          "library": "var_list.py",
          "varRefreshCmd": "print(var_dic_list())"
        },
        "r": {
          "delete_cmd_postfix": ") ",
          "delete_cmd_prefix": "rm(",
          "library": "var_list.r",
          "varRefreshCmd": "cat(var_dic_list()) "
        }
      },
      "types_to_exclude": [
        "module",
        "function",
        "builtin_function_or_method",
        "instance",
        "_Feature"
      ],
      "window_display": false
    },
    "colab": {
      "name": "SIR_model.ipynb",
      "provenance": []
    }
  },
  "cells": [
    {
      "cell_type": "code",
      "metadata": {
        "id": "xfUrWIMeeQV2"
      },
      "source": [
        "from scipy.integrate import odeint\n",
        "import numpy as np\n",
        "import matplotlib.pyplot as plt\n"
      ],
      "execution_count": 35,
      "outputs": []
    },
    {
      "cell_type": "markdown",
      "metadata": {
        "id": "B4Xz70RVeQV6"
      },
      "source": [
        "# Let’s run the extended SIR model"
      ]
    },
    {
      "cell_type": "markdown",
      "metadata": {
        "id": "VSvpTjoLvaHM"
      },
      "source": [
        "## Functions"
      ]
    },
    {
      "cell_type": "code",
      "metadata": {
        "id": "-uCGY0sTeQV7"
      },
      "source": [
        "# describe the model\n",
        "def deriv(y, t, N, beta, k, delta):\n",
        "    #TODO: check that every derivative is correct\n",
        "    S, E, I, R, D, H = y                  #[susceptible, exposed, infected, recovered, deceased, hospital]\n",
        "    dSdt = (-beta * S * I / N) + ((1/30)*R/N) #susceptible\n",
        "    dEdt = beta * S * I / N - delta * E   #exposed\n",
        "    dIdt = delta * E - k * I              #infected\n",
        "    dHdt = h * I - k * H                  #hospital\n",
        "    dRdt = (1-d) * k * I                  #recovered\n",
        "    dDdt = d * k * I                      #deceased\n",
        "\n",
        "    return dSdt, dEdt, dIdt, dRdt, dDdt, dHdt"
      ],
      "execution_count": 36,
      "outputs": []
    },
    {
      "cell_type": "code",
      "metadata": {
        "id": "HBXiGYqReQV8"
      },
      "source": [
        "def plotsir(t, S, E, I, R, D, H):\n",
        "  f, ax = plt.subplots(1,1,figsize=(10,4))\n",
        "  ax.plot(t, S, 'b', alpha=0.7, linewidth=2, label='Susceptible')\n",
        "  ax.plot(t, E, 'y', alpha=0.7, linewidth=2, label='Exposed')\n",
        "  ax.plot(t, I, 'r', alpha=0.7, linewidth=2, label='Infected')\n",
        "  ax.plot(t, H, 'c', alpha=0.7, linewidth=2, label='In need of hospital(ICU)')\n",
        "  ax.plot(t, R, 'g', alpha=0.7, linewidth=2, label='Recovered')\n",
        "  ax.plot(t, D, 'black', alpha=0.7, linewidth=2, label='Deceased')\n",
        "\n",
        "  ax.set_xlabel('Time (days)')\n",
        "\n",
        "  ax.yaxis.set_tick_params(length=0)\n",
        "  ax.xaxis.set_tick_params(length=0)\n",
        "  ax.grid(b=True, which='major', c='w', lw=2, ls='-')\n",
        "  legend = ax.legend()\n",
        "  legend.get_frame().set_alpha(0.5)\n",
        "  for spine in ('top', 'right', 'bottom', 'left'):\n",
        "      ax.spines[spine].set_visible(False)\n",
        "  plt.show();"
      ],
      "execution_count": 37,
      "outputs": []
    },
    {
      "cell_type": "markdown",
      "metadata": {
        "id": "RqJaWOwHvkKj"
      },
      "source": [
        "## Parameters and Plot"
      ]
    },
    {
      "cell_type": "markdown",
      "metadata": {
        "id": "1tuqolWa_M3r"
      },
      "source": [
        "**N** is the population. \r\n",
        "\r\n",
        "**delta** represents the time from exposure to symptoms, the incubation period. This is between 1-14 days and on average 5-6 days, according to the World Health Organization(WHO). \r\n",
        "\r\n",
        "**k** is the number of days that a subject is infected.\r\n",
        "\r\n",
        "**d** is the mortality rate. Data from Johns Hopkins University suggest that 2% is a reasonable number. ([See this site](https://coronavirus.jhu.edu/data/mortality) \r\n",
        "\r\n",
        "**h** is the percentage of the people who have contracted that needs an Intensive Care Unit(ICU). 15% of the infected needs some kind of hospital care, for example oxygen, according to WHO. 5% of the infected needs ICU according to WHO. We have choosen to only include ICU in the \"hospital\" category as those patients need a considerable amount of medical resources.\r\n",
        "\r\n"
      ]
    },
    {
      "cell_type": "code",
      "metadata": {
        "id": "zYiHldZKeQV7"
      },
      "source": [
        "# describe the parameters\n",
        "N =  10000000              #population\n",
        "beta = 1.4                \n",
        "delta = 1.0 / 6.0         #incubation period of 6 days\n",
        "k = 1.0/7.0\n",
        "d = 0.02                     #mortality\n",
        "h = 0.03                     #percentage of infected that needs hospital             \n",
        "S0, E0, I0, R0, D0, H0 = N-1, 1, 0, 0, 0, 0  # initial conditions: one exposed, rest susceptible\n",
        "\n",
        "t = np.linspace(0, 149, 100) # Grid of time points (in days)\n",
        "y0 = S0, E0, I0, R0, D0, H0 # Initial conditions vector\n",
        "\n",
        "# Integrate the SIR equations over the time grid, t.\n",
        "ret = odeint(deriv, y0, t, args=(N, beta, k, delta))\n",
        "S, E, I, R, D, H = ret.T\n"
      ],
      "execution_count": 38,
      "outputs": []
    },
    {
      "cell_type": "markdown",
      "metadata": {
        "id": "DIv9I20deQV8"
      },
      "source": [
        "plot the graph"
      ]
    },
    {
      "cell_type": "code",
      "metadata": {
        "colab": {
          "base_uri": "https://localhost:8080/",
          "height": 322
        },
        "id": "W8Z0iQjteQV9",
        "outputId": "4ef92895-dd6d-44b2-c92a-b807cbb1dad4"
      },
      "source": [
        "\n",
        "plotsir(t, S, E, I, R, D, H) \n",
        "\n",
        "ICUmax = H[0]\n",
        "for i in H: \n",
        "  if ICUmax < i: \n",
        "    ICUmax = i\n",
        "\n",
        "print(\"ICUs needed: \", ICUmax);\n",
        "print(\"Deceased: \", D[-1]);"
      ],
      "execution_count": 39,
      "outputs": [
        {
          "output_type": "display_data",
          "data": {
            "image/png": "[encoded data removed]",
            "text/plain": [
              "<Figure size 720x288 with 1 Axes>"
            ]
          },
          "metadata": {
            "tags": [],
            "needs_background": "light"
          }
        },
        {
          "output_type": "stream",
          "text": [
            "ICUs needed:  534524.1124385127\n",
            "Deceased:  199987.86522934667\n"
          ],
          "name": "stdout"
        }
      ]
    },
    {
      "cell_type": "code",
      "metadata": {
        "id": "pRMb5zzJeQV-"
      },
      "source": [
        ""
      ],
      "execution_count": 39,
      "outputs": []
    },
    {
      "cell_type": "markdown",
      "metadata": {
        "id": "mkuVvWaeJFu5"
      },
      "source": [
        "A future improvement/addition to this model could be to introduce a number of available ICU beds and if the number of people in need of ICU exceeds that number, the mortality is increased accordingly. "
      ]
    }
  ]
}